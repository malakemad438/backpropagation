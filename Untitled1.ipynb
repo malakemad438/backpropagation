{
  "nbformat": 4,
  "nbformat_minor": 0,
  "metadata": {
    "colab": {
      "provenance": []
    },
    "kernelspec": {
      "name": "python3",
      "display_name": "Python 3"
    },
    "language_info": {
      "name": "python"
    }
  },
  "cells": [
    {
      "cell_type": "code",
      "execution_count": 3,
      "metadata": {
        "colab": {
          "base_uri": "https://localhost:8080/"
        },
        "id": "pACy-AI6vot9",
        "outputId": "58e52122-5086-4f48-c03e-ccf28ce9606f"
      },
      "outputs": [
        {
          "output_type": "stream",
          "name": "stdout",
          "text": [
            "Epoch 0, Error: 0.1451085665569043\n",
            "Epoch 1000, Error: 7.428158484319713e-08\n",
            "Epoch 2000, Error: 1.0423337540310662e-12\n",
            "Epoch 3000, Error: 1.1882855810441129e-16\n",
            "Epoch 4000, Error: 6.158268339717665e-17\n",
            "Epoch 5000, Error: 6.158268339717665e-17\n",
            "Epoch 6000, Error: 6.158268339717665e-17\n",
            "Epoch 7000, Error: 6.158268339717665e-17\n",
            "Epoch 8000, Error: 6.158268339717665e-17\n",
            "Epoch 9000, Error: 6.158268339717665e-17\n",
            "Final output after training: [[0.01 0.99]]\n"
          ]
        }
      ],
      "source": [
        "import numpy as np\n",
        "\n",
        "def tanh(x):\n",
        "    return np.tanh(x)\n",
        "\n",
        "def tanh_derivative(x):\n",
        "    return 1 - np.tanh(x) ** 2\n",
        "\n",
        "X = np.array([[0.05, 0.10]])\n",
        "y = np.array([[0.01, 0.99]])\n",
        "\n",
        "\n",
        "np.random.seed(42)\n",
        "W1 = np.random.rand(2, 2)\n",
        "b1 = np.random.rand(1, 2)\n",
        "W2 = np.random.rand(2, 2)\n",
        "b2 = np.random.rand(1, 2)\n",
        "\n",
        "alpha = 0.5\n",
        "\n",
        "\n",
        "epochs = 10000\n",
        "\n",
        "for epoch in range(epochs):\n",
        "\n",
        "    hidden_input = np.dot(X, W1) + b1\n",
        "    hidden_output = tanh(hidden_input)\n",
        "\n",
        "    final_input = np.dot(hidden_output, W2) + b2\n",
        "    final_output = tanh(final_input)\n",
        "\n",
        "\n",
        "    error = y - final_output\n",
        "\n",
        "    d_output = error * tanh_derivative(final_output)\n",
        "    d_hidden = np.dot(d_output, W2.T) * tanh_derivative(hidden_output)\n",
        "\n",
        "\n",
        "    W2 += np.dot(hidden_output.T, d_output) * alpha\n",
        "    b2 += np.sum(d_output, axis=0, keepdims=True) * alpha\n",
        "    W1 += np.dot(X.T, d_hidden) * alpha\n",
        "    b1 += np.sum(d_hidden, axis=0, keepdims=True) * alpha\n",
        "\n",
        "    if epoch % 1000 == 0:\n",
        "        print(f\"Epoch {epoch}, Error: {np.mean(np.abs(error))}\")\n",
        "\n",
        "print(\"Final output after training:\", final_output)\n"
      ]
    }
  ]
}